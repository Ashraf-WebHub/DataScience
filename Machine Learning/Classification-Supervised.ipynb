{
 "cells": [
  {
   "cell_type": "markdown",
   "id": "3254b667",
   "metadata": {},
   "source": [
    "### Cancer DataSet Analysis - Supervised Models"
   ]
  },
  {
   "cell_type": "markdown",
   "id": "4bd5fa94",
   "metadata": {},
   "source": [
    "#### <em> Exploratory Analysis : </em>"
   ]
  },
  {
   "cell_type": "code",
   "execution_count": 8,
   "id": "226dd25c",
   "metadata": {},
   "outputs": [
    {
     "name": "stdout",
     "output_type": "stream",
     "text": [
      "<class 'pandas.core.frame.DataFrame'>\n",
      "RangeIndex: 569 entries, 0 to 568\n",
      "Data columns (total 31 columns):\n",
      " #   Column                   Non-Null Count  Dtype  \n",
      "---  ------                   --------------  -----  \n",
      " 0   mean radius              569 non-null    float64\n",
      " 1   mean texture             569 non-null    float64\n",
      " 2   mean perimeter           569 non-null    float64\n",
      " 3   mean area                569 non-null    float64\n",
      " 4   mean smoothness          569 non-null    float64\n",
      " 5   mean compactness         569 non-null    float64\n",
      " 6   mean concavity           569 non-null    float64\n",
      " 7   mean concave points      569 non-null    float64\n",
      " 8   mean symmetry            569 non-null    float64\n",
      " 9   mean fractal dimension   569 non-null    float64\n",
      " 10  radius error             569 non-null    float64\n",
      " 11  texture error            569 non-null    float64\n",
      " 12  perimeter error          569 non-null    float64\n",
      " 13  area error               569 non-null    float64\n",
      " 14  smoothness error         569 non-null    float64\n",
      " 15  compactness error        569 non-null    float64\n",
      " 16  concavity error          569 non-null    float64\n",
      " 17  concave points error     569 non-null    float64\n",
      " 18  symmetry error           569 non-null    float64\n",
      " 19  fractal dimension error  569 non-null    float64\n",
      " 20  worst radius             569 non-null    float64\n",
      " 21  worst texture            569 non-null    float64\n",
      " 22  worst perimeter          569 non-null    float64\n",
      " 23  worst area               569 non-null    float64\n",
      " 24  worst smoothness         569 non-null    float64\n",
      " 25  worst compactness        569 non-null    float64\n",
      " 26  worst concavity          569 non-null    float64\n",
      " 27  worst concave points     569 non-null    float64\n",
      " 28  worst symmetry           569 non-null    float64\n",
      " 29  worst fractal dimension  569 non-null    float64\n",
      " 30  target                   569 non-null    int32  \n",
      "dtypes: float64(30), int32(1)\n",
      "memory usage: 135.7 KB\n"
     ]
    }
   ],
   "source": [
    "import matplotlib.pyplot as plt\n",
    "import numpy as np\n",
    "from sklearn.tree import DecisionTreeClassifier\n",
    "from sklearn.datasets import load_breast_cancer\n",
    "from sklearn.model_selection import train_test_split\n",
    "import pandas as pd\n",
    "\n",
    "dicto={}\n",
    "cancer = load_breast_cancer()\n",
    "\n",
    "#print(cancer.DESCR) \n",
    "data=pd.DataFrame(cancer.data,columns=cancer.feature_names)\n",
    "data['target'] = cancer.target\n",
    "data.head()\n",
    "data.info()\n"
   ]
  },
  {
   "cell_type": "markdown",
   "id": "3ad97128",
   "metadata": {},
   "source": [
    "#### <em> Decision Tree Classifier: </em>"
   ]
  },
  {
   "cell_type": "code",
   "execution_count": 3,
   "id": "13c887c6",
   "metadata": {},
   "outputs": [
    {
     "name": "stdout",
     "output_type": "stream",
     "text": [
      "Accuracy on training set: 1.000\n",
      "Accuracy on test set: 0.937\n"
     ]
    },
    {
     "data": {
      "image/png": "[encoded data removed]",
      "text/plain": [
       "<Figure size 432x288 with 1 Axes>"
      ]
     },
     "metadata": {
      "needs_background": "light"
     },
     "output_type": "display_data"
    }
   ],
   "source": [
    "\n",
    "cancer = load_breast_cancer()\n",
    "tree = DecisionTreeClassifier(random_state=0)\n",
    "X_train, X_test, y_train, y_test = train_test_split(\n",
    " cancer.data, cancer.target, stratify=cancer.target, random_state=42)\n",
    "tree.fit(X_train, y_train)\n",
    "print(\"Accuracy on training set: {:.3f}\".format(tree.score(X_train, y_train)))\n",
    "print(\"Accuracy on test set: {:.3f}\".format(tree.score(X_test, y_test)))\n",
    "\n",
    "dicto['Tree']=tree.score(X_test, y_test)\n",
    "\n",
    "def significance_plot(model):\n",
    "    n_features = cancer.data.shape[1]\n",
    "    plt.barh(range(n_features), model.feature_importances_, align='center')\n",
    "    plt.yticks(np.arange(n_features), cancer.feature_names)\n",
    "    plt.xlabel(\"Significance\")\n",
    "    plt.ylabel(\"Feature\")\n",
    "    plt.rcParams[\"figure.figsize\"] = (10,15)\n",
    "\n",
    "significance_plot(tree)"
   ]
  },
  {
   "cell_type": "markdown",
   "id": "c7a3b015",
   "metadata": {},
   "source": [
    "#### <em> KMeans Clustering Classifier: </em>"
   ]
  },
  {
   "cell_type": "code",
   "execution_count": 4,
   "id": "3d23f50d",
   "metadata": {},
   "outputs": [
    {
     "name": "stdout",
     "output_type": "stream",
     "text": [
      "Accuracy on training set: 0.946\n",
      "Accuracy on test set: 0.930\n"
     ]
    }
   ],
   "source": [
    "from sklearn.neighbors import KNeighborsClassifier\n",
    "\n",
    "kmeans = KNeighborsClassifier(n_neighbors=5)\n",
    "kmeans.fit(X_train, y_train)\n",
    "print(\"Accuracy on training set: {:.3f}\".format(kmeans.score(X_train, y_train)))\n",
    "print(\"Accuracy on test set: {:.3f}\".format(kmeans.score(X_test, y_test)))\n",
    "\n",
    "dicto['k-means']=kmeans.score(X_test, y_test)"
   ]
  },
  {
   "cell_type": "markdown",
   "id": "542a6697",
   "metadata": {},
   "source": [
    "#### <em> Logistic Regression Classifier: </em>"
   ]
  },
  {
   "cell_type": "code",
   "execution_count": 5,
   "id": "ef6aacab",
   "metadata": {},
   "outputs": [
    {
     "name": "stdout",
     "output_type": "stream",
     "text": [
      "Training set score: 0.955\n",
      "Test set score: 0.958\n"
     ]
    },
    {
     "name": "stderr",
     "output_type": "stream",
     "text": [
      "C:\\Users\\Conda\\anaconda3\\lib\\site-packages\\sklearn\\linear_model\\_logistic.py:763: ConvergenceWarning: lbfgs failed to converge (status=1):\n",
      "STOP: TOTAL NO. of ITERATIONS REACHED LIMIT.\n",
      "\n",
      "Increase the number of iterations (max_iter) or scale the data as shown in:\n",
      "    https://scikit-learn.org/stable/modules/preprocessing.html\n",
      "Please also refer to the documentation for alternative solver options:\n",
      "    https://scikit-learn.org/stable/modules/linear_model.html#logistic-regression\n",
      "  n_iter_i = _check_optimize_result(\n"
     ]
    }
   ],
   "source": [
    "from sklearn.linear_model import LogisticRegression\n",
    "import numpy as np\n",
    "X_train, X_test, y_train, y_test = train_test_split(\n",
    " cancer.data, cancer.target, stratify=cancer.target, random_state=42)\n",
    "logreg = LogisticRegression().fit(X_train, y_train)\n",
    "\n",
    "dicto['LogReg']=logreg.score(X_test, y_test)\n",
    "\n",
    "print(\"Training set score: {:.3f}\".format(logreg.score(X_train, y_train)))\n",
    "print(\"Test set score: {:.3f}\".format(logreg.score(X_test, y_test)))"
   ]
  },
  {
   "cell_type": "markdown",
   "id": "f3e573ae",
   "metadata": {},
   "source": [
    "#### <em> Comparisons: </em>"
   ]
  },
  {
   "cell_type": "code",
   "execution_count": 6,
   "id": "cd36799f",
   "metadata": {},
   "outputs": [
    {
     "name": "stdout",
     "output_type": "stream",
     "text": [
      "          Models  Accuracies\n",
      "Tree        Tree    0.937063\n",
      "k-means  k-means    0.930070\n",
      "LogReg    LogReg    0.958042\n"
     ]
    },
    {
     "data": {
      "image/png": "[encoded data removed]",
      "text/plain": [
       "<Figure size 720x1080 with 1 Axes>"
      ]
     },
     "metadata": {
      "needs_background": "light"
     },
     "output_type": "display_data"
    }
   ],
   "source": [
    "\n",
    "d=pd.DataFrame({'Models':dicto.keys(),'Accuracies':dicto.values()},index=dicto.keys())\n",
    "print(d)\n",
    "ax=d.plot.bar(x='Models',y='Accuracies',rot=0,title='Models Performance Comparison',grid=True,legend=False,ylabel='Accuracy')\n",
    "for p in ax.patches:\n",
    "    ax.annotate(np.round(p.get_height(),4), (p.get_x() * 1.005, p.get_height() * 1.005))\n"
   ]
  },
  {
   "cell_type": "code",
   "execution_count": null,
   "id": "27124ce9",
   "metadata": {},
   "outputs": [],
   "source": []
  }
 ],
 "metadata": {
  "kernelspec": {
   "display_name": "Python 3",
   "language": "python",
   "name": "python3"
  },
  "language_info": {
   "codemirror_mode": {
    "name": "ipython",
    "version": 3
   },
   "file_extension": ".py",
   "mimetype": "text/x-python",
   "name": "python",
   "nbconvert_exporter": "python",
   "pygments_lexer": "ipython3",
   "version": "3.8.8"
  }
 },
 "nbformat": 4,
 "nbformat_minor": 5
}
